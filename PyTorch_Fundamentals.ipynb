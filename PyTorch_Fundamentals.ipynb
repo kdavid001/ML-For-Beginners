{
 "nbformat": 4,
 "nbformat_minor": 0,
 "metadata": {
  "colab": {
   "provenance": [],
   "gpuType": "T4",
   "authorship_tag": "ABX9TyOgv0AozH1FKQBD+RkgT2bV",
   "include_colab_link": true
  },
  "kernelspec": {
   "name": "python3",
   "display_name": "Python 3"
  },
  "language_info": {
   "name": "python"
  },
  "accelerator": "GPU"
 },
 "cells": [
  {
   "cell_type": "markdown",
   "metadata": {
    "id": "view-in-github",
    "colab_type": "text"
   },
   "source": [
    "<a href=\"https://colab.research.google.com/github/karthiksivakoti/ML-For-Beginners/blob/main/PyTorch_Fundamentals.ipynb\" target=\"_parent\"><img src=\"https://colab.research.google.com/assets/colab-badge.svg\" alt=\"Open In Colab\"/></a>"
   ]
  },
  {
   "cell_type": "code",
   "execution_count": null,
   "metadata": {
    "id": "EHh5JllMh1rG",
    "outputId": "f55755ad-c369-414c-85ec-6e9d4f061a02",
    "colab": {
     "base_uri": "https://localhost:8080/",
     "height": 35
    }
   },
   "source": [
    "import torch\n",
    "torch.__version__"
   ],
   "outputs": []
  },
  {
   "cell_type": "code",
   "source": [
    "print(\"I am excited to run this\")"
   ],
   "metadata": {
    "colab": {
     "base_uri": "https://localhost:8080/"
    },
    "id": "UPlb-duwXAfz",
    "outputId": "cfd687e4-1238-49f4-ab6b-ee1305b740d2"
   },
   "execution_count": null,
   "outputs": []
  },
  {
   "cell_type": "code",
   "source": [
    "import torch\n",
    "import pandas as pd\n",
    "import numpy as np\n",
    "import matplotlib.pyplot as plt\n",
    "print(torch.__version__)"
   ],
   "metadata": {
    "colab": {
     "base_uri": "https://localhost:8080/"
    },
    "id": "byWVlJ9wXDSk",
    "outputId": "fd74a5c4-4d4a-41b2-ef3c-562ea3e4811f"
   },
   "execution_count": null,
   "outputs": []
  },
  {
   "cell_type": "markdown",
   "source": [
    "# **Introduction to Tensors**"
   ],
   "metadata": {
    "id": "Osm80zoEYklS"
   }
  },
  {
   "cell_type": "code",
   "source": [
    "# scalar\n",
    "scalar = torch.tensor(7)\n",
    "scalar"
   ],
   "metadata": {
    "colab": {
     "base_uri": "https://localhost:8080/"
    },
    "id": "-o8wvJ-VXZmI",
    "outputId": "558816f5-1205-4de1-fe1f-2f96e9bd79e6"
   },
   "execution_count": null,
   "outputs": []
  },
  {
   "cell_type": "code",
   "source": [
    "scalar.ndim"
   ],
   "metadata": {
    "colab": {
     "base_uri": "https://localhost:8080/"
    },
    "id": "mCZ2tXC4Y_Sg",
    "outputId": "2d86dbdc-56e1-45c6-d3dd-14515f2a457a"
   },
   "execution_count": null,
   "outputs": []
  },
  {
   "cell_type": "code",
   "source": [
    "scalar.item()"
   ],
   "metadata": {
    "colab": {
     "base_uri": "https://localhost:8080/"
    },
    "id": "ssN00By0ZQgS",
    "outputId": "490f40d1-5135-4969-a6d3-c8c902cdc473"
   },
   "execution_count": null,
   "outputs": []
  },
  {
   "cell_type": "code",
   "source": [
    "# vector\n",
    "vector = torch.tensor([7, 7])\n",
    "vector\n",
    "#vector.ndim\n",
    "#vector.item()"
   ],
   "metadata": {
    "colab": {
     "base_uri": "https://localhost:8080/"
    },
    "id": "Bws__5wlZnmF",
    "outputId": "944e38f9-5ba1-4ddc-a9c6-cfb6a19bb488"
   },
   "execution_count": null,
   "outputs": []
  },
  {
   "cell_type": "code",
   "source": [
    "vector.shape"
   ],
   "metadata": {
    "colab": {
     "base_uri": "https://localhost:8080/"
    },
    "id": "9pjCvnsZZzNG",
    "outputId": "e030a4da-8f81-4858-fbce-86da2aaafe52"
   },
   "execution_count": null,
   "outputs": []
  },
  {
   "cell_type": "code",
   "source": [
    "# Matrix\n",
    "MATRIX = torch.tensor([[7, 8],[9, 10]])\n",
    "MATRIX"
   ],
   "metadata": {
    "colab": {
     "base_uri": "https://localhost:8080/"
    },
    "id": "a747hI9SaBGW",
    "outputId": "af835ddb-81ff-4981-badb-441567194d15"
   },
   "execution_count": null,
   "outputs": []
  },
  {
   "cell_type": "code",
   "source": [
    "MATRIX.ndim"
   ],
   "metadata": {
    "colab": {
     "base_uri": "https://localhost:8080/"
    },
    "id": "XdTfFa7vaRUj",
    "outputId": "0fbbab9c-8263-4cad-a380-0d2a16ca499e"
   },
   "execution_count": null,
   "outputs": []
  },
  {
   "cell_type": "code",
   "source": [
    "MATRIX[0]\n",
    "MATRIX[1]"
   ],
   "metadata": {
    "colab": {
     "base_uri": "https://localhost:8080/"
    },
    "id": "TFeD3jSDafm7",
    "outputId": "69b44ab3-5ba7-451a-c6b2-f019a03d0c96"
   },
   "execution_count": null,
   "outputs": []
  },
  {
   "cell_type": "code",
   "source": [
    "# Tensor\n",
    "TENSOR = torch.tensor([[[1, 2, 3],[3,6,9], [2,4,5]]])\n",
    "TENSOR"
   ],
   "metadata": {
    "colab": {
     "base_uri": "https://localhost:8080/"
    },
    "id": "ic3cE47tah42",
    "outputId": "f250e295-91de-43ec-9d80-588a6fe0abde"
   },
   "execution_count": null,
   "outputs": []
  },
  {
   "cell_type": "code",
   "source": [
    "TENSOR.shape"
   ],
   "metadata": {
    "colab": {
     "base_uri": "https://localhost:8080/"
    },
    "id": "Wvjf5fczbAM1",
    "outputId": "9c72b5b8-bafe-4ae7-9883-b051e209eada"
   },
   "execution_count": null,
   "outputs": []
  },
  {
   "cell_type": "code",
   "source": [
    "TENSOR.ndim"
   ],
   "metadata": {
    "colab": {
     "base_uri": "https://localhost:8080/"
    },
    "id": "mwtXZwiMbN3m",
    "outputId": "331a5e36-b1b0-4a5f-a9b8-e7049cbaa8f9"
   },
   "execution_count": null,
   "outputs": []
  },
  {
   "cell_type": "code",
   "source": [
    "TENSOR[0]"
   ],
   "metadata": {
    "colab": {
     "base_uri": "https://localhost:8080/"
    },
    "id": "vzdZu_IfbP3J",
    "outputId": "e24e7e71-e365-412d-ff50-fc094b56d2f3"
   },
   "execution_count": null,
   "outputs": []
  },
  {
   "cell_type": "markdown",
   "source": [
    "# RANDOM TENSOR"
   ],
   "metadata": {
    "id": "A8OL9eWfcRrJ"
   }
  },
  {
   "cell_type": "code",
   "source": [
    "random_tensor = torch.rand(3,4)\n",
    "random_tensor"
   ],
   "metadata": {
    "colab": {
     "base_uri": "https://localhost:8080/"
    },
    "id": "hAqSDE1EcVS_",
    "outputId": "946171c3-d054-400c-f893-79110356888c"
   },
   "execution_count": null,
   "outputs": []
  },
  {
   "cell_type": "code",
   "source": [
    "random_tensor.ndim"
   ],
   "metadata": {
    "colab": {
     "base_uri": "https://localhost:8080/"
    },
    "id": "g4fvPE5GcwzP",
    "outputId": "8737f36b-6864-4059-eaed-6f9156c22306"
   },
   "execution_count": null,
   "outputs": []
  },
  {
   "cell_type": "code",
   "source": [
    "random_tensor.shape"
   ],
   "metadata": {
    "colab": {
     "base_uri": "https://localhost:8080/"
    },
    "id": "XsAg99QmdAU6",
    "outputId": "35467c11-257c-4f16-99aa-eca930bcbc36"
   },
   "execution_count": null,
   "outputs": []
  },
  {
   "cell_type": "code",
   "source": [
    "random_tensor.size()"
   ],
   "metadata": {
    "colab": {
     "base_uri": "https://localhost:8080/"
    },
    "id": "cii1pNdVdB68",
    "outputId": "fc8d2de6-9215-43de-99f7-7b0d7f7d20fa"
   },
   "execution_count": null,
   "outputs": []
  },
  {
   "cell_type": "code",
   "source": [
    "random_image_tensor = torch.rand(size=(3, 224, 224)) #color channels, height, width\n",
    "random_image_tensor.ndim, random_image_tensor.shape"
   ],
   "metadata": {
    "colab": {
     "base_uri": "https://localhost:8080/"
    },
    "id": "aTKq2j0cdDjb",
    "outputId": "6be42057-20b9-4faf-d79d-8b65c42cc27e"
   },
   "execution_count": null,
   "outputs": []
  },
  {
   "cell_type": "code",
   "source": [
    "random_tensor_ofownsize = torch.rand(size=(5,10,10))\n",
    "random_tensor_ofownsize.ndim, random_tensor_ofownsize.shape\n"
   ],
   "metadata": {
    "colab": {
     "base_uri": "https://localhost:8080/"
    },
    "id": "IyhDdj-Pd6nC",
    "outputId": "43e5e334-6d4d-4b67-f87d-7d364c6d8c67"
   },
   "execution_count": null,
   "outputs": []
  },
  {
   "cell_type": "markdown",
   "source": [
    "Zeroes and Ones tensor"
   ],
   "metadata": {
    "id": "UOJW08uOert_"
   }
  },
  {
   "cell_type": "code",
   "source": [
    "zero = torch.zeros(size=(3, 4))\n",
    "zero"
   ],
   "metadata": {
    "colab": {
     "base_uri": "https://localhost:8080/"
    },
    "id": "uGvXtaXyefie",
    "outputId": "d40d3e28-8667-4d2f-8b62-f0829c6162ad"
   },
   "execution_count": null,
   "outputs": []
  },
  {
   "cell_type": "code",
   "source": [
    "zero*random_tensor"
   ],
   "metadata": {
    "colab": {
     "base_uri": "https://localhost:8080/"
    },
    "id": "OyUkUPkDe0uH",
    "outputId": "26c2e4be-36ba-4c6c-9a90-2704ec135828"
   },
   "execution_count": null,
   "outputs": []
  },
  {
   "cell_type": "code",
   "source": [
    "ones = torch.ones(size=(3, 4))\n",
    "ones\n"
   ],
   "metadata": {
    "colab": {
     "base_uri": "https://localhost:8080/"
    },
    "id": "y_Ac62Aqe82G",
    "outputId": "291de5d9-b9df-49de-c9d1-d098e3e9f4d8"
   },
   "execution_count": null,
   "outputs": []
  },
  {
   "cell_type": "code",
   "source": [
    "ones.dtype"
   ],
   "metadata": {
    "colab": {
     "base_uri": "https://localhost:8080/"
    },
    "id": "TvGOA9odfIEO",
    "outputId": "45949ef4-6649-4b6c-d6af-2d4bfb8de832"
   },
   "execution_count": null,
   "outputs": []
  },
  {
   "cell_type": "code",
   "source": [
    "ones*zero"
   ],
   "metadata": {
    "colab": {
     "base_uri": "https://localhost:8080/"
    },
    "id": "--pTyge-fI-8",
    "outputId": "c4d9bb7e-829b-43db-e2db-b1a2d64e61f0"
   },
   "execution_count": null,
   "outputs": []
  },
  {
   "cell_type": "markdown",
   "source": [
    "Range of Tensors, Tensor - like"
   ],
   "metadata": {
    "id": "qDcc7Z36fSJF"
   }
  },
  {
   "cell_type": "code",
   "source": [
    "one_to_ten = torch.arange(start = 1, end = 11, step = 1)\n",
    "one_to_ten"
   ],
   "metadata": {
    "colab": {
     "base_uri": "https://localhost:8080/"
    },
    "id": "w3CZB4zUfR1s",
    "outputId": "197fcba1-da0a-4b4a-ed11-3974bd6c01aa"
   },
   "execution_count": null,
   "outputs": []
  },
  {
   "cell_type": "code",
   "source": [
    "ten_zeros = torch.zeros_like(one_to_ten)\n",
    "ten_zeros"
   ],
   "metadata": {
    "colab": {
     "base_uri": "https://localhost:8080/"
    },
    "id": "WZh99BwVfRy8",
    "outputId": "51ef8bfb-6fa0-4099-ff66-b97d65b2ddea"
   },
   "execution_count": null,
   "outputs": []
  },
  {
   "cell_type": "markdown",
   "source": [
    "Tensor Datatypes"
   ],
   "metadata": {
    "id": "pGGhgsbUgqbW"
   }
  },
  {
   "cell_type": "code",
   "source": [
    "float_32_tensor = torch.tensor([3.0, 6.0,9.0], dtype = None, device = None, requires_grad = False)\n",
    "float_32_tensor"
   ],
   "metadata": {
    "colab": {
     "base_uri": "https://localhost:8080/"
    },
    "id": "JORJl4XkfRsx",
    "outputId": "71114171-0f49-481f-b6fc-6cb48e2fb895"
   },
   "execution_count": null,
   "outputs": []
  },
  {
   "cell_type": "code",
   "source": [
    "float_32_tensor.dtype"
   ],
   "metadata": {
    "colab": {
     "base_uri": "https://localhost:8080/"
    },
    "id": "6wOPPwGyfRLn",
    "outputId": "f23776a1-b682-404a-9f67-d5bcb0402666"
   },
   "execution_count": null,
   "outputs": []
  },
  {
   "cell_type": "code",
   "source": [
    "float_16_tensor = float_32_tensor.type(torch.float16)\n",
    "float_16_tensor.dtype"
   ],
   "metadata": {
    "colab": {
     "base_uri": "https://localhost:8080/"
    },
    "id": "tFsHCvmZfOYe",
    "outputId": "d3aa305a-7591-47f5-97fd-61bff60b44bd"
   },
   "execution_count": null,
   "outputs": []
  },
  {
   "cell_type": "code",
   "source": [
    "float_16_tensor*float_32_tensor"
   ],
   "metadata": {
    "colab": {
     "base_uri": "https://localhost:8080/"
    },
    "id": "TQiCGTPuwq0q",
    "outputId": "98750fce-1ca3-4889-e269-8b753efdea96"
   },
   "execution_count": null,
   "outputs": []
  },
  {
   "cell_type": "code",
   "source": [
    "int_32_tensor = torch.tensor([3, 6, 9], dtype = torch.int32)\n",
    "int_32_tensor"
   ],
   "metadata": {
    "colab": {
     "base_uri": "https://localhost:8080/"
    },
    "id": "5hlrLvGUw5D_",
    "outputId": "41d890a0-9aee-446c-d906-631ce2ab0995"
   },
   "execution_count": null,
   "outputs": []
  },
  {
   "cell_type": "code",
   "source": [
    "int_32_tensor*float_32_tensor"
   ],
   "metadata": {
    "colab": {
     "base_uri": "https://localhost:8080/"
    },
    "id": "ihApD9u3xTNW",
    "outputId": "d295eed0-6996-4e0f-8502-ff4b55cd1373"
   },
   "execution_count": null,
   "outputs": []
  },
  {
   "cell_type": "code",
   "source": [
    "x = torch.arange(0,100,10)"
   ],
   "metadata": {
    "id": "utKhlb_KxWDQ"
   },
   "execution_count": null,
   "outputs": []
  },
  {
   "cell_type": "code",
   "source": [
    "x"
   ],
   "metadata": {
    "colab": {
     "base_uri": "https://localhost:8080/"
    },
    "id": "p78D74E9Rj7Y",
    "outputId": "781a1614-a900-41f5-9e5d-358f0b2390aa"
   },
   "execution_count": null,
   "outputs": []
  },
  {
   "cell_type": "code",
   "source": [
    "x.min()"
   ],
   "metadata": {
    "colab": {
     "base_uri": "https://localhost:8080/"
    },
    "id": "4BcSs5NeRkcj",
    "outputId": "3f24a8dc-58e9-4a5f-9834-e85856a34f9d"
   },
   "execution_count": null,
   "outputs": []
  },
  {
   "cell_type": "code",
   "source": [
    "x.max()"
   ],
   "metadata": {
    "colab": {
     "base_uri": "https://localhost:8080/"
    },
    "id": "hinqvXVLRm4q",
    "outputId": "5c7d8a53-3913-4ac1-bba3-5ba8ff68250a"
   },
   "execution_count": null,
   "outputs": []
  },
  {
   "cell_type": "code",
   "source": [
    "torch.mean(x.type(torch.float32))"
   ],
   "metadata": {
    "colab": {
     "base_uri": "https://localhost:8080/"
    },
    "id": "k7okc0_vRpnB",
    "outputId": "91e5494f-dc57-417c-ea4d-25dbc547c893"
   },
   "execution_count": null,
   "outputs": []
  },
  {
   "cell_type": "code",
   "source": [
    "x.type(torch.float32).mean()"
   ],
   "metadata": {
    "colab": {
     "base_uri": "https://localhost:8080/"
    },
    "id": "29QcDTjHRq10",
    "outputId": "62937c6c-78e0-49f2-dde3-1543ee8f7907"
   },
   "execution_count": null,
   "outputs": []
  },
  {
   "cell_type": "code",
   "source": [
    "x.sum()"
   ],
   "metadata": {
    "colab": {
     "base_uri": "https://localhost:8080/"
    },
    "id": "wlpY_G_sbdKF",
    "outputId": "475d8258-af65-4011-a258-b93d4d8142d4"
   },
   "execution_count": null,
   "outputs": []
  },
  {
   "cell_type": "code",
   "source": [
    "x.argmax()"
   ],
   "metadata": {
    "colab": {
     "base_uri": "https://localhost:8080/"
    },
    "id": "GT6HJzwhbk4n",
    "outputId": "2e455c20-c322-4bcf-d07c-1259d3ccefc6"
   },
   "execution_count": null,
   "outputs": []
  },
  {
   "cell_type": "code",
   "source": [
    "x.argmin()"
   ],
   "metadata": {
    "colab": {
     "base_uri": "https://localhost:8080/"
    },
    "id": "egL3oi2Mb19P",
    "outputId": "f71fb32f-6338-44a3-b377-75bea0a3ab54"
   },
   "execution_count": null,
   "outputs": []
  },
  {
   "cell_type": "code",
   "source": [
    "x[0]"
   ],
   "metadata": {
    "colab": {
     "base_uri": "https://localhost:8080/"
    },
    "id": "p2U8DZKib3DP",
    "outputId": "b9f613b9-74e9-45f4-ed01-05babb6a6793"
   },
   "execution_count": null,
   "outputs": []
  },
  {
   "cell_type": "code",
   "source": [
    "x[9]"
   ],
   "metadata": {
    "colab": {
     "base_uri": "https://localhost:8080/"
    },
    "id": "24qBFlGYcABe",
    "outputId": "5813cfcb-7f63-4bd7-ee46-f95ccbfda939"
   },
   "execution_count": null,
   "outputs": []
  },
  {
   "cell_type": "code",
   "source": [
    "x = torch.arange(1, 10)\n",
    "x.shape"
   ],
   "metadata": {
    "colab": {
     "base_uri": "https://localhost:8080/"
    },
    "id": "0GPOxEzkcBHO",
    "outputId": "aefbd903-4f4c-4d2c-c90f-eccd682fe018"
   },
   "execution_count": null,
   "outputs": []
  },
  {
   "cell_type": "code",
   "source": [
    "x_reshaped = x.reshape(1,9)\n",
    "x_reshaped, x_reshaped.shape"
   ],
   "metadata": {
    "colab": {
     "base_uri": "https://localhost:8080/"
    },
    "id": "spmRgQjwddgp",
    "outputId": "85a7c55c-2909-4ea2-fc68-386dddc65742"
   },
   "execution_count": null,
   "outputs": []
  },
  {
   "cell_type": "code",
   "source": [
    "x_reshaped.view(1,9)"
   ],
   "metadata": {
    "colab": {
     "base_uri": "https://localhost:8080/"
    },
    "id": "tH2ahWGydqqP",
    "outputId": "65d92263-4fc4-434a-c06d-c5e08436f7fe"
   },
   "execution_count": null,
   "outputs": []
  },
  {
   "cell_type": "code",
   "source": [
    "x_stacked = torch.stack([x, x, x, x], dim = 1)\n",
    "x_stacked"
   ],
   "metadata": {
    "colab": {
     "base_uri": "https://localhost:8080/"
    },
    "id": "jgCeJcaud_-1",
    "outputId": "7f293a37-6ef1-43b6-aee5-9d6d91c94f9e"
   },
   "execution_count": null,
   "outputs": []
  },
  {
   "cell_type": "code",
   "source": [
    "x_stacked.squeeze()"
   ],
   "metadata": {
    "colab": {
     "base_uri": "https://localhost:8080/"
    },
    "id": "XhJHIK6cfPse",
    "outputId": "06c47b89-3a9e-453e-bcc3-00cbcb0b8b49"
   },
   "execution_count": null,
   "outputs": []
  },
  {
   "cell_type": "code",
   "source": [
    "x_stacked.unsqueeze(dim=1)"
   ],
   "metadata": {
    "colab": {
     "base_uri": "https://localhost:8080/"
    },
    "id": "ej2c3Xxzf0tq",
    "outputId": "94024061-eb37-446d-c4a8-e4d16cb6de81"
   },
   "execution_count": null,
   "outputs": []
  },
  {
   "cell_type": "code",
   "source": [
    "x_stacked.squeeze()"
   ],
   "metadata": {
    "colab": {
     "base_uri": "https://localhost:8080/"
    },
    "id": "4DJYo1a0f5M0",
    "outputId": "efca2b47-1b14-44de-9a9a-2c83629d153f"
   },
   "execution_count": null,
   "outputs": []
  },
  {
   "cell_type": "code",
   "source": [
    "x_stacked.unsqueeze(dim=-2)"
   ],
   "metadata": {
    "colab": {
     "base_uri": "https://localhost:8080/"
    },
    "id": "J4iEjn2ah2HL",
    "outputId": "22395593-7c16-4162-beae-dd2bbe7bda35"
   },
   "execution_count": null,
   "outputs": []
  },
  {
   "cell_type": "code",
   "source": [
    "import torch\n",
    "tensor = torch.tensor([1, 2, 3])\n",
    "tensor = tensor - 10\n",
    "tensor"
   ],
   "metadata": {
    "colab": {
     "base_uri": "https://localhost:8080/"
    },
    "id": "cFfiD7Nth7Z_",
    "outputId": "1139e1f8-fc1a-46ca-d636-f2bc4fd2eef6"
   },
   "execution_count": null,
   "outputs": []
  },
  {
   "cell_type": "code",
   "source": [
    "torch.mul(tensor, 10)"
   ],
   "metadata": {
    "colab": {
     "base_uri": "https://localhost:8080/"
    },
    "id": "dyA7BM_GHhqE",
    "outputId": "0e3b9671-d9e8-4a32-87bb-59bc05986142"
   },
   "execution_count": null,
   "outputs": []
  },
  {
   "cell_type": "code",
   "source": [
    "torch.sub(tensor, 100)"
   ],
   "metadata": {
    "colab": {
     "base_uri": "https://localhost:8080/"
    },
    "id": "owtUsZ1KNegI",
    "outputId": "189b7b23-0041-4e09-b991-cd209a48506a"
   },
   "execution_count": null,
   "outputs": []
  },
  {
   "cell_type": "code",
   "source": [
    "torch.add(tensor, 100)"
   ],
   "metadata": {
    "colab": {
     "base_uri": "https://localhost:8080/"
    },
    "id": "K5STXlQONsyc",
    "outputId": "00cbb79a-0a1d-4e21-86ec-5c91c37a2d01"
   },
   "execution_count": null,
   "outputs": []
  },
  {
   "cell_type": "code",
   "source": [
    "torch.divide(tensor, 2)"
   ],
   "metadata": {
    "colab": {
     "base_uri": "https://localhost:8080/"
    },
    "id": "xqMGnzIUNvp0",
    "outputId": "c894cf3e-f148-45f8-cfc8-d78740735306"
   },
   "execution_count": null,
   "outputs": []
  },
  {
   "cell_type": "code",
   "source": [
    "torch.matmul(tensor, tensor)"
   ],
   "metadata": {
    "colab": {
     "base_uri": "https://localhost:8080/"
    },
    "id": "ruGzKpV8NyBc",
    "outputId": "fddb63bf-006f-48b6-ae28-287fbcda8bc5"
   },
   "execution_count": null,
   "outputs": []
  },
  {
   "cell_type": "code",
   "source": [
    "tensor@tensor"
   ],
   "metadata": {
    "colab": {
     "base_uri": "https://localhost:8080/"
    },
    "id": "8GS3r9yTeGfD",
    "outputId": "c80b12ac-30b5-4f3d-c38c-9e41ba511b0e"
   },
   "execution_count": null,
   "outputs": []
  },
  {
   "cell_type": "code",
   "source": [
    "%%time\n",
    "tensor@tensor"
   ],
   "metadata": {
    "colab": {
     "base_uri": "https://localhost:8080/"
    },
    "id": "QmuYHqXTemC0",
    "outputId": "402fe3ba-70b5-4bb2-c83b-254db84ff810"
   },
   "execution_count": null,
   "outputs": []
  },
  {
   "cell_type": "code",
   "source": [
    "%%time\n",
    "torch.matmul(tensor,tensor)"
   ],
   "metadata": {
    "colab": {
     "base_uri": "https://localhost:8080/"
    },
    "id": "dGr1fzdNepd8",
    "outputId": "97bd6c91-bc25-4b38-cdf5-f22dcdef243e"
   },
   "execution_count": null,
   "outputs": []
  },
  {
   "cell_type": "code",
   "source": [
    "torch.rand(3,2)"
   ],
   "metadata": {
    "colab": {
     "base_uri": "https://localhost:8080/"
    },
    "id": "pGYDoK2gevfo",
    "outputId": "2c8783d5-0453-47c5-c7ed-af10d25d6989"
   },
   "execution_count": null,
   "outputs": []
  },
  {
   "cell_type": "code",
   "source": [
    "torch.matmul(torch.rand(3,2), torch.rand(2,3))"
   ],
   "metadata": {
    "colab": {
     "base_uri": "https://localhost:8080/"
    },
    "id": "KGBGQoB8e2DP",
    "outputId": "4c2ef361-a2d0-41ee-c328-3992cbbc138d"
   },
   "execution_count": null,
   "outputs": []
  },
  {
   "cell_type": "code",
   "source": [
    "import torch"
   ],
   "metadata": {
    "id": "ib8DMtkBe_LJ"
   },
   "execution_count": 1,
   "outputs": []
  },
  {
   "cell_type": "code",
   "source": [
    "x = torch.rand(2,9)"
   ],
   "metadata": {
    "id": "nJo8ZBdrQY1b"
   },
   "execution_count": 2,
   "outputs": []
  },
  {
   "cell_type": "code",
   "source": [
    "x"
   ],
   "metadata": {
    "colab": {
     "base_uri": "https://localhost:8080/"
    },
    "id": "wi6oRv4MQfgf",
    "outputId": "55c99f55-31f6-4cf5-ba4e-19a47c3a0167"
   },
   "execution_count": 3,
   "outputs": []
  },
  {
   "cell_type": "code",
   "source": [
    "y=torch.randn(2,3,5)\n",
    "y"
   ],
   "metadata": {
    "colab": {
     "base_uri": "https://localhost:8080/"
    },
    "id": "Zpx8myAUQgoc",
    "outputId": "07756d70-56bd-437c-c74e-9aecc1a77311"
   },
   "execution_count": 5,
   "outputs": []
  },
  {
   "cell_type": "code",
   "source": [
    "x_original = torch.rand(size=(224,224,3))\n",
    "x_original"
   ],
   "metadata": {
    "colab": {
     "base_uri": "https://localhost:8080/"
    },
    "id": "s4U-X9bJQnWe",
    "outputId": "657a7a76-962c-4b41-a76b-902d0482266c"
   },
   "execution_count": 6,
   "outputs": []
  },
  {
   "cell_type": "code",
   "source": [
    "x_permuted=x_original.permute(2, 0, 1)\n",
    "print(x_original.shape)\n",
    "print(x_permuted.shape)"
   ],
   "metadata": {
    "colab": {
     "base_uri": "https://localhost:8080/"
    },
    "id": "DD19_zvbQzHo",
    "outputId": "1d64ce1b-eb48-47e3-90b6-7f1340e7f2b2"
   },
   "execution_count": 9,
   "outputs": []
  },
  {
   "cell_type": "code",
   "source": [
    "x_original[0,0,0]"
   ],
   "metadata": {
    "colab": {
     "base_uri": "https://localhost:8080/"
    },
    "id": "NnPmMk4ZRF7w",
    "outputId": "2cd5da7f-4a23-4a76-8c4a-bb982113f2a4"
   },
   "execution_count": 10,
   "outputs": []
  },
  {
   "cell_type": "code",
   "source": [
    "x_permuted[0,0,0]"
   ],
   "metadata": {
    "colab": {
     "base_uri": "https://localhost:8080/"
    },
    "id": "Z0ylNoAARgTo",
    "outputId": "ddca0298-cddf-4048-9b71-a791655e5bed"
   },
   "execution_count": 11,
   "outputs": []
  },
  {
   "cell_type": "code",
   "source": [
    "x_original[0,0,0]=0.989"
   ],
   "metadata": {
    "id": "RXw0xXsDRi4L"
   },
   "execution_count": 13,
   "outputs": []
  },
  {
   "cell_type": "code",
   "source": [
    "x_original[0,0,0]"
   ],
   "metadata": {
    "colab": {
     "base_uri": "https://localhost:8080/"
    },
    "id": "1sFdV6wzRo3f",
    "outputId": "1cf87d2c-6d88-453a-d136-0f625a2800f1"
   },
   "execution_count": 14,
   "outputs": []
  },
  {
   "cell_type": "code",
   "source": [
    "x_permuted[0,0,0]"
   ],
   "metadata": {
    "colab": {
     "base_uri": "https://localhost:8080/"
    },
    "id": "xTX-hx2SR1wp",
    "outputId": "0d4908c4-c3bc-44e3-8ec6-1487104cc209"
   },
   "execution_count": 15,
   "outputs": []
  },
  {
   "cell_type": "code",
   "source": [
    "x=torch.arange(1,10).reshape(1,3,3)\n",
    "x, x.shape"
   ],
   "metadata": {
    "colab": {
     "base_uri": "https://localhost:8080/"
    },
    "id": "mZomOe7gR4Q8",
    "outputId": "0b3c922f-ec11-46de-b8a5-9f9533d866ad"
   },
   "execution_count": 18,
   "outputs": []
  },
  {
   "cell_type": "code",
   "source": [
    "x[0]"
   ],
   "metadata": {
    "colab": {
     "base_uri": "https://localhost:8080/"
    },
    "id": "3y7v4SQvSBs1",
    "outputId": "8c53307d-e628-404d-db66-56c6bdffab7c"
   },
   "execution_count": 19,
   "outputs": []
  },
  {
   "cell_type": "code",
   "source": [
    "x[0][0]"
   ],
   "metadata": {
    "colab": {
     "base_uri": "https://localhost:8080/"
    },
    "id": "hf9uG4xLSNya",
    "outputId": "3075bc42-9ffa-426b-8a86-95628ffcd824"
   },
   "execution_count": 21,
   "outputs": []
  },
  {
   "cell_type": "code",
   "source": [
    "x[0][0][0]"
   ],
   "metadata": {
    "colab": {
     "base_uri": "https://localhost:8080/"
    },
    "id": "zA4G2Se4SRB3",
    "outputId": "324312d2-ed0a-49eb-f81f-e904e53992fe"
   },
   "execution_count": 22,
   "outputs": []
  },
  {
   "cell_type": "code",
   "source": [
    "x[0][2][2]"
   ],
   "metadata": {
    "colab": {
     "base_uri": "https://localhost:8080/"
    },
    "id": "Mwy3zmKKSdbk",
    "outputId": "d35172c3-b099-40a6-ddf1-a453c2adfa44"
   },
   "execution_count": 23,
   "outputs": []
  },
  {
   "cell_type": "code",
   "source": [
    "x[:,1,1]"
   ],
   "metadata": {
    "colab": {
     "base_uri": "https://localhost:8080/"
    },
    "id": "fE3nCM1KS7XT",
    "outputId": "01f5d755-9737-4235-9f73-dce89ff6ba16"
   },
   "execution_count": 24,
   "outputs": []
  },
  {
   "cell_type": "code",
   "source": [
    "x[0,0,:]"
   ],
   "metadata": {
    "colab": {
     "base_uri": "https://localhost:8080/"
    },
    "id": "luNDINKNTTxp",
    "outputId": "091195ef-2f71-4602-e95f-529a69193150"
   },
   "execution_count": 25,
   "outputs": []
  },
  {
   "cell_type": "code",
   "source": [
    "x[0,:,2]"
   ],
   "metadata": {
    "colab": {
     "base_uri": "https://localhost:8080/"
    },
    "id": "KG8A4xbfThCL",
    "outputId": "5866bc41-9241-4619-be7b-e9206b3f80ab"
   },
   "execution_count": 26,
   "outputs": []
  },
  {
   "cell_type": "code",
   "source": [
    "import numpy as np"
   ],
   "metadata": {
    "id": "CZ3PX0qlTwHJ"
   },
   "execution_count": 27,
   "outputs": []
  },
  {
   "cell_type": "code",
   "source": [
    "array = np.arange(1.0, 8.0)"
   ],
   "metadata": {
    "id": "UOBeTumiT3Lf"
   },
   "execution_count": 28,
   "outputs": []
  },
  {
   "cell_type": "code",
   "source": [
    "array"
   ],
   "metadata": {
    "colab": {
     "base_uri": "https://localhost:8080/"
    },
    "id": "RzcO32E9UCQl",
    "outputId": "430def24-c42c-461f-e5e7-398544c695d3"
   },
   "execution_count": 29,
   "outputs": []
  },
  {
   "cell_type": "code",
   "source": [
    "tensor = torch.from_numpy(array)\n",
    "tensor"
   ],
   "metadata": {
    "colab": {
     "base_uri": "https://localhost:8080/"
    },
    "id": "JJIL0q1DUC6O",
    "outputId": "8a3b1d7c-4482-4d32-f34f-9212d9d3a177"
   },
   "execution_count": 32,
   "outputs": []
  },
  {
   "cell_type": "code",
   "source": [
    "array[3]=11.0"
   ],
   "metadata": {
    "id": "j3Ce6q3DUIEK"
   },
   "execution_count": 33,
   "outputs": []
  },
  {
   "cell_type": "code",
   "source": [
    "array"
   ],
   "metadata": {
    "colab": {
     "base_uri": "https://localhost:8080/"
    },
    "id": "dc_BCVdjUsCc",
    "outputId": "65537325-8b11-4f36-fc73-e56f30d6a036"
   },
   "execution_count": 34,
   "outputs": []
  },
  {
   "cell_type": "code",
   "source": [
    "tensor"
   ],
   "metadata": {
    "colab": {
     "base_uri": "https://localhost:8080/"
    },
    "id": "VG1e_eITUta2",
    "outputId": "a26c5198-23b6-4a6d-d73a-ba20cd9782b8"
   },
   "execution_count": 35,
   "outputs": []
  },
  {
   "cell_type": "code",
   "source": [
    "tensor = torch.ones(7)\n",
    "tensor, tensor.dtype\n",
    "numpy_tensor = tensor.numpy()\n",
    "numpy_tensor, numpy_tensor.dtype"
   ],
   "metadata": {
    "colab": {
     "base_uri": "https://localhost:8080/"
    },
    "id": "Swt8JF8vUuev",
    "outputId": "c9e5bf6a-6d2c-41d6-8327-366867ffdd2d"
   },
   "execution_count": 37,
   "outputs": []
  },
  {
   "cell_type": "code",
   "source": [
    "import torch\n",
    "random_tensor_A = torch.rand(3,4)\n",
    "random_tensor_B = torch.rand(3,4)\n",
    "print(random_tensor_A)\n",
    "print(random_tensor_B)\n",
    "print(random_tensor_A == random_tensor_B)"
   ],
   "metadata": {
    "colab": {
     "base_uri": "https://localhost:8080/"
    },
    "id": "uGcagTteVFTD",
    "outputId": "49405790-08e7-4210-b7f1-f00b904c7eb9"
   },
   "execution_count": 38,
   "outputs": []
  },
  {
   "cell_type": "code",
   "source": [
    "RANDOM_SEED = 42\n",
    "torch.manual_seed(RANDOM_SEED)\n",
    "random_tensor_C = torch.rand(3,4)\n",
    "torch.manual_seed(RANDOM_SEED)\n",
    "random_tensor_D = torch.rand(3,4)\n",
    "print(random_tensor_C)\n",
    "print(random_tensor_D)\n",
    "print(random_tensor_C == random_tensor_D)"
   ],
   "metadata": {
    "colab": {
     "base_uri": "https://localhost:8080/"
    },
    "id": "HznyXyEaWjLM",
    "outputId": "25956434-01b6-4059-9054-c9978884ddc1"
   },
   "execution_count": 46,
   "outputs": []
  },
  {
   "cell_type": "code",
   "source": [
    "!nvidia-smi"
   ],
   "metadata": {
    "colab": {
     "base_uri": "https://localhost:8080/"
    },
    "id": "vltPTh0YXJSt",
    "outputId": "807af6dc-a9ca-4301-ec32-b688dbde8be8"
   },
   "execution_count": 2,
   "outputs": []
  },
  {
   "cell_type": "code",
   "source": [
    "import torch\n",
    "torch.cuda.is_available()"
   ],
   "metadata": {
    "colab": {
     "base_uri": "https://localhost:8080/"
    },
    "id": "L6mMyPDyYh1j",
    "outputId": "279c5dd8-c2a8-4fbd-f321-2f5d7c6e90e6"
   },
   "execution_count": 3,
   "outputs": []
  },
  {
   "cell_type": "code",
   "source": [
    "device = \"cuda\" if torch.cuda.is_available() else \"cpu\"\n",
    "device"
   ],
   "metadata": {
    "colab": {
     "base_uri": "https://localhost:8080/",
     "height": 35
    },
    "id": "oOdiYa7ZYytx",
    "outputId": "d73b04fc-8963-4826-9722-08d118d5ab91"
   },
   "execution_count": 5,
   "outputs": []
  },
  {
   "cell_type": "code",
   "source": [
    "torch.cuda.device_count()"
   ],
   "metadata": {
    "colab": {
     "base_uri": "https://localhost:8080/"
    },
    "id": "vOdsazLqZFM5",
    "outputId": "8189cd6a-9017-4663-a652-3e15c517d9c3"
   },
   "execution_count": 6,
   "outputs": []
  },
  {
   "cell_type": "code",
   "source": [
    "tensor = torch.tensor([1,2,3], device = \"cpu\")\n",
    "print(tensor, tensor.device)"
   ],
   "metadata": {
    "colab": {
     "base_uri": "https://localhost:8080/"
    },
    "id": "cdik9Vw3ZMv0",
    "outputId": "044a68fd-83a1-409d-8e3b-655142ca0270"
   },
   "execution_count": 7,
   "outputs": []
  },
  {
   "cell_type": "code",
   "source": [
    "tensor_on_gpu = tensor.to(device)\n",
    "tensor_on_gpu"
   ],
   "metadata": {
    "colab": {
     "base_uri": "https://localhost:8080/"
    },
    "id": "Zmp835rrZp-z",
    "outputId": "37fa3413-18a3-47bf-ae51-5b36ff85a3ef"
   },
   "execution_count": 8,
   "outputs": []
  },
  {
   "cell_type": "code",
   "source": [
    "tensor_on_gpu.numpy()"
   ],
   "metadata": {
    "colab": {
     "base_uri": "https://localhost:8080/",
     "height": 159
    },
    "id": "jhriaa8uZ1yM",
    "outputId": "bc5a3226-1a12-4fea-8769-a44f21cdc323"
   },
   "execution_count": 10,
   "outputs": []
  },
  {
   "cell_type": "code",
   "source": [
    "tensor_on_cpu = tensor_on_gpu.cpu().numpy()"
   ],
   "metadata": {
    "id": "LHGXK3GgaOzL"
   },
   "execution_count": 12,
   "outputs": []
  },
  {
   "cell_type": "code",
   "source": [],
   "metadata": {
    "id": "j-El4LlCajfq"
   },
   "execution_count": null,
   "outputs": []
  }
 ]
}
