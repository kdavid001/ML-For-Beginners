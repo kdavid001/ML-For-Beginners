{
 "nbformat": 4,
 "nbformat_minor": 2,
 "metadata": {
  "colab": {
   "name": "lesson_11-R.ipynb",
   "provenance": [],
   "collapsed_sections": [],
   "toc_visible": true
  },
  "kernelspec": {
   "name": "ir",
   "display_name": "R"
  },
  "language_info": {
   "name": "R"
  }
 },
 "cells": [
  {
   "cell_type": "markdown",
   "source": [
    "# Build a classification model: Delicious Asian and Indian Cuisines"
   ],
   "metadata": {
    "id": "zs2woWv_HoE8"
   }
  },
  {
   "cell_type": "markdown",
   "source": [
    "## Cuisine classifiers 1\n",
    "\n",
    "In this lesson, we'll explore a variety of classifiers to *predict a given national cuisine based on a group of ingredients.* While doing so, we'll learn more about some of the ways that algorithms can be leveraged for classification tasks.\n",
    "\n",
    "### [**Pre-lecture quiz**](https://gray-sand-07a10f403.1.azurestaticapps.net/quiz/21/)\n",
    "\n",
    "### **Preparation**\n",
    "\n",
    "This lesson builds up on our [previous lesson](https://github.com/microsoft/ML-For-Beginners/blob/main/4-Classification/1-Introduction/solution/lesson_10-R.ipynb) where we:\n",
    "\n",
    "-   Made a gentle introduction to classifications using a dataset about all the brilliant cuisines of Asia and India 😋.\n",
    "\n",
    "-   Explored some [dplyr verbs](https://dplyr.tidyverse.org/) to prep and clean our data.\n",
    "\n",
    "-   Made beautiful visualizations using ggplot2.\n",
    "\n",
    "-   Demonstrated how to deal with imbalanced data by preprocessing it using [recipes](https://recipes.tidymodels.org/articles/Simple_Example.html).\n",
    "\n",
    "-   Demonstrated how to `prep` and `bake` our recipe to confirm that it will work as supposed to.\n",
    "\n",
    "#### **Prerequisite**\n",
    "\n",
    "For this lesson, we'll require the following packages to clean, prep and visualize our data:\n",
    "\n",
    "-   `tidyverse`: The [tidyverse](https://www.tidyverse.org/) is a [collection of R packages](https://www.tidyverse.org/packages) designed to makes data science faster, easier and more fun!\n",
    "\n",
    "-   `tidymodels`: The [tidymodels](https://www.tidymodels.org/) framework is a [collection of packages](https://www.tidymodels.org/packages/) for modeling and machine learning.\n",
    "\n",
    "\n",
    "-   `themis`: The [themis package](https://themis.tidymodels.org/) provides Extra Recipes Steps for Dealing with Unbalanced Data.\n",
    "\n",
    "-   `nnet`: The [nnet package](https://cran.r-project.org/web/packages/nnet/nnet.pdf) provides functions for estimating feed-forward neural networks with a single hidden layer, and for multinomial logistic regression models.\n",
    "\n",
    "You can have them installed as:"
   ],
   "metadata": {
    "id": "iDFOb3ebHwQC"
   }
  },
  {
   "cell_type": "markdown",
   "source": [
    "\n",
    "`install.packages(c(\"tidyverse\", \"tidymodels\", \"DataExplorer\", \"here\"))`\n",
    "\n",
    "Alternatively, the script below checks whether you have the packages required to complete this module and installs them for you in case they are missing."
   ],
   "metadata": {
    "id": "4V85BGCjII7F"
   }
  },
  {
   "cell_type": "code",
   "execution_count": 2,
   "source": [
    "suppressWarnings(if (!require(\"pacman\"))install.packages(\"pacman\"))\r\n",
    "\r\n",
    "pacman::p_load(tidyverse, tidymodels, themis, here)"
   ],
   "metadata": {
    "colab": {
     "base_uri": "https://localhost:8080/"
    },
    "id": "an5NPyyKIKNR",
    "outputId": "834d5e74-f4b8-49f9-8ab5-4c52ff2d7bc8"
   },
   "outputs": []
  },
  {
   "cell_type": "markdown",
   "source": [
    "Now, let's hit the ground running!\n",
    "\n",
    "## 1. Split the data into training and test sets.\n",
    "\n",
    "We'll start by picking a few steps from our previous lesson.\n",
    "\n",
    "### Drop the most common ingredients that create confusion between distinct cuisines, using `dplyr::select()`.\n",
    "\n",
    "Everyone loves rice, garlic and ginger!\n"
   ],
   "metadata": {
    "id": "0ax9GQLBINVv"
   }
  },
  {
   "cell_type": "code",
   "execution_count": 3,
   "source": [
    "# Load the original cuisines data\r\n",
    "df <- read_csv(file = \"https://raw.githubusercontent.com/microsoft/ML-For-Beginners/main/4-Classification/data/cuisines.csv\")\r\n",
    "\r\n",
    "# Drop id column, rice, garlic and ginger from our original data set\r\n",
    "df_select <- df %>% \r\n",
    "  select(-c(1, rice, garlic, ginger)) %>%\r\n",
    "  # Encode cuisine column as categorical\r\n",
    "  mutate(cuisine = factor(cuisine))\r\n",
    "\r\n",
    "# Display new data set\r\n",
    "df_select %>% \r\n",
    "  slice_head(n = 5)\r\n",
    "\r\n",
    "# Display distribution of cuisines\r\n",
    "df_select %>% \r\n",
    "  count(cuisine) %>% \r\n",
    "  arrange(desc(n))"
   ],
   "metadata": {
    "colab": {
     "base_uri": "https://localhost:8080/",
     "height": 735
    },
    "id": "jhCrrH22IWVR",
    "outputId": "d444a85c-1d8b-485f-bc4f-8be2e8f8217c"
   },
   "outputs": []
  },
  {
   "cell_type": "markdown",
   "source": [
    "Perfect! Now, time to split the data such that 70% of the data goes to training and 30% goes to testing. We'll also apply a `stratification` technique when splitting the data to `maintain the proportion of each cuisine` in the training and validation datasets.\n",
    "\n",
    "[rsample](https://rsample.tidymodels.org/), a package in Tidymodels, provides infrastructure for efficient data splitting and resampling:"
   ],
   "metadata": {
    "id": "AYTjVyajIdny"
   }
  },
  {
   "cell_type": "code",
   "execution_count": 4,
   "source": [
    "# Load the core Tidymodels packages into R session\r\n",
    "library(tidymodels)\r\n",
    "\r\n",
    "# Create split specification\r\n",
    "set.seed(2056)\r\n",
    "cuisines_split <- initial_split(data = df_select,\r\n",
    "                                strata = cuisine,\r\n",
    "                                prop = 0.7)\r\n",
    "\r\n",
    "# Extract the data in each split\r\n",
    "cuisines_train <- training(cuisines_split)\r\n",
    "cuisines_test <- testing(cuisines_split)\r\n",
    "\r\n",
    "# Print the number of cases in each split\r\n",
    "cat(\"Training cases: \", nrow(cuisines_train), \"\\n\",\r\n",
    "    \"Test cases: \", nrow(cuisines_test), sep = \"\")\r\n",
    "\r\n",
    "# Display the first few rows of the training set\r\n",
    "cuisines_train %>% \r\n",
    "  slice_head(n = 5)\r\n",
    "\r\n",
    "\r\n",
    "# Display distribution of cuisines in the training set\r\n",
    "cuisines_train %>% \r\n",
    "  count(cuisine) %>% \r\n",
    "  arrange(desc(n))"
   ],
   "metadata": {
    "colab": {
     "base_uri": "https://localhost:8080/",
     "height": 535
    },
    "id": "w5FWIkEiIjdN",
    "outputId": "2e195fd9-1a8f-4b91-9573-cce5582242df"
   },
   "outputs": []
  },
  {
   "cell_type": "markdown",
   "source": [
    "## 2. Deal with imbalanced data\n",
    "\n",
    "As you might have noticed in the original data set as well as in our training set, there is quite an unequal distribution in the number of cuisines. Korean cuisines are *almost* 3 times Thai cuisines. Imbalanced data often has negative effects on the model performance. Many models perform best when the number of observations is equal and, thus, tend to struggle with unbalanced data.\n",
    "\n",
    "There are majorly two ways of dealing with imbalanced data sets:\n",
    "\n",
    "-   adding observations to the minority class: `Over-sampling` e.g using a SMOTE algorithm which synthetically generates new examples of the minority class using nearest neighbors of these cases.\n",
    "\n",
    "-   removing observations from majority class: `Under-sampling`\n",
    "\n",
    "In our previous lesson, we demonstrated how to deal with imbalanced data sets using a `recipe`. A recipe can be thought of as a blueprint that describes what steps should be applied to a data set in order to get it ready for data analysis. In our case, we want to have an equal distribution in the number of our cuisines for our `training set`. Let's get right into it."
   ],
   "metadata": {
    "id": "daBi9qJNIwqW"
   }
  },
  {
   "cell_type": "code",
   "execution_count": 5,
   "source": [
    "# Load themis package for dealing with imbalanced data\r\n",
    "library(themis)\r\n",
    "\r\n",
    "# Create a recipe for preprocessing training data\r\n",
    "cuisines_recipe <- recipe(cuisine ~ ., data = cuisines_train) %>% \r\n",
    "  step_smote(cuisine)\r\n",
    "\r\n",
    "# Print recipe\r\n",
    "cuisines_recipe"
   ],
   "metadata": {
    "colab": {
     "base_uri": "https://localhost:8080/",
     "height": 200
    },
    "id": "Az6LFBGxI1X0",
    "outputId": "29d71d85-64b0-4e62-871e-bcd5398573b6"
   },
   "outputs": []
  },
  {
   "cell_type": "markdown",
   "source": [
    "You can of course go ahead and confirm (using prep+bake) that the recipe will work as you expect it - all the cuisine labels having `559` observations.\r\n",
    "\r\n",
    "Since we'll be using this recipe as a preprocessor for modeling, a `workflow()` will do all the prep and bake for us, so we won't have to manually estimate the recipe.\r\n",
    "\r\n",
    "Now we are ready to train a model 👩‍💻👨‍💻!\r\n",
    "\r\n",
    "## 3. Choosing your classifier\r\n",
    "\r\n",
    "<p >\r\n",
    "   <img src=\"../../images/parsnip.jpg\"\r\n",
    "   width=\"600\"/>\r\n",
    "   <figcaption>Artwork by @allison_horst</figcaption>\r\n"
   ],
   "metadata": {
    "id": "NBL3PqIWJBBB"
   }
  },
  {
   "cell_type": "markdown",
   "source": [
    "Now we have to decide which algorithm to use for the job 🤔.\r\n",
    "\r\n",
    "In Tidymodels, the [`parsnip package`](https://parsnip.tidymodels.org/index.html) provides consistent interface for working with models across different engines (packages). Please see the parsnip documentation to explore [model types & engines](https://www.tidymodels.org/find/parsnip/#models) and their corresponding [model arguments](https://www.tidymodels.org/find/parsnip/#model-args). The variety is quite bewildering at first sight. For instance, the following methods all include classification techniques:\r\n",
    "\r\n",
    "-   C5.0 Rule-Based Classification Models\r\n",
    "\r\n",
    "-   Flexible Discriminant Models\r\n",
    "\r\n",
    "-   Linear Discriminant Models\r\n",
    "\r\n",
    "-   Regularized Discriminant Models\r\n",
    "\r\n",
    "-   Logistic Regression Models\r\n",
    "\r\n",
    "-   Multinomial Regression Models\r\n",
    "\r\n",
    "-   Naive Bayes Models\r\n",
    "\r\n",
    "-   Support Vector Machines\r\n",
    "\r\n",
    "-   Nearest Neighbors\r\n",
    "\r\n",
    "-   Decision Trees\r\n",
    "\r\n",
    "-   Ensemble methods\r\n",
    "\r\n",
    "-   Neural Networks\r\n",
    "\r\n",
    "The list goes on!\r\n",
    "\r\n",
    "### **What classifier to go with?**\r\n",
    "\r\n",
    "So, which classifier should you choose? Often, running through several and looking for a good result is a way to test.\r\n",
    "\r\n",
    "> AutoML solves this problem neatly by running these comparisons in the cloud, allowing you to choose the best algorithm for your data. Try it [here](https://docs.microsoft.com/learn/modules/automate-model-selection-with-azure-automl/?WT.mc_id=academic-77952-leestott)\r\n",
    "\r\n",
    "Also the choice of classifier depends on our problem. For instance, when the outcome can be categorized into `more than two classes`, like in our case, you must use a `multiclass classification algorithm` as opposed to `binary classification.`\r\n",
    "\r\n",
    "### **A better approach**\r\n",
    "\r\n",
    "A better way than wildly guessing, however, is to follow the ideas on this downloadable [ML Cheat sheet](https://docs.microsoft.com/azure/machine-learning/algorithm-cheat-sheet?WT.mc_id=academic-77952-leestott). Here, we discover that, for our multiclass problem, we have some choices:\r\n",
    "\r\n",
    "<p >\r\n",
    "   <img src=\"../../images/cheatsheet.png\"\r\n",
    "   width=\"500\"/>\r\n",
    "   <figcaption>A section of Microsoft's Algorithm Cheat Sheet, detailing multiclass classification options</figcaption>\r\n",
    "\r\n"
   ],
   "metadata": {
    "id": "a6DLAZ3vJZ14"
   }
  },
  {
   "cell_type": "markdown",
   "source": [
    "### **Reasoning**\n",
    "\n",
    "Let's see if we can reason our way through different approaches given the constraints we have:\n",
    "\n",
    "-   **Deep Neural networks are too heavy**. Given our clean, but minimal dataset, and the fact that we are running training locally via notebooks, deep neural networks are too heavyweight for this task.\n",
    "\n",
    "-   **No two-class classifier**. We do not use a two-class classifier, so that rules out one-vs-all.\n",
    "\n",
    "-   **Decision tree or logistic regression could work**. A decision tree might work, or multinomial regression/multiclass logistic regression for multiclass data.\n",
    "\n",
    "-   **Multiclass Boosted Decision Trees solve a different problem**. The multiclass boosted decision tree is most suitable for nonparametric tasks, e.g. tasks designed to build rankings, so it is not useful for us.\n",
    "\n",
    "Also, normally before embarking on more complex machine learning models e.g ensemble methods, it's a good idea to build the simplest possible model to get an idea of what is going on. So for this lesson, we'll start with a `multinomial regression` model.\n",
    "\n",
    "> Logistic regression is a technique used when the outcome variable is categorical (or nominal). For Binary logistic regression the number of outcome variables is two, whereas the number of outcome variables for multinomial logistic regression is more than two. See [Advanced Regression Methods](https://bookdown.org/chua/ber642_advanced_regression/multinomial-logistic-regression.html) for further reading.\n",
    "\n",
    "## 4. Train and evaluate a Multinomial logistic regression model.\n",
    "\n",
    "In Tidymodels, `parsnip::multinom_reg()`, defines a model that uses linear predictors to predict multiclass data using the multinomial distribution. See `?multinom_reg()` for the different ways/engines you can use to fit this model.\n",
    "\n",
    "For this example, we'll fit a Multinomial regression model via the default [nnet](https://cran.r-project.org/web/packages/nnet/nnet.pdf) engine.\n",
    "\n",
    "> I picked a value for `penalty` sort of randomly. There are better ways to choose this value that is, by using `resampling` and `tuning` the model which we'll discuss later.\n",
    ">\n",
    "> See [Tidymodels: Get Started](https://www.tidymodels.org/start/tuning/) in case you want to learn more on how to tune model hyperparameters."
   ],
   "metadata": {
    "id": "gWMsVcbBJemu"
   }
  },
  {
   "cell_type": "code",
   "execution_count": 6,
   "source": [
    "# Create a multinomial regression model specification\r\n",
    "mr_spec <- multinom_reg(penalty = 1) %>% \r\n",
    "  set_engine(\"nnet\", MaxNWts = 2086) %>% \r\n",
    "  set_mode(\"classification\")\r\n",
    "\r\n",
    "# Print model specification\r\n",
    "mr_spec"
   ],
   "metadata": {
    "colab": {
     "base_uri": "https://localhost:8080/",
     "height": 166
    },
    "id": "Wq_fcyQiJvfG",
    "outputId": "c30449c7-3864-4be7-f810-72a003743e2d"
   },
   "outputs": []
  },
  {
   "cell_type": "markdown",
   "source": [
    "Great job 🥳! Now that we have a recipe and a model specification, we need to find a way of bundling them together into an object that will first preprocess the data then fit the model on the preprocessed data and also allow for potential post-processing activities. In Tidymodels, this convenient object is called a [`workflow`](https://workflows.tidymodels.org/) and conveniently holds your modeling components! This is what we'd call *pipelines* in *Python*.\n",
    "\n",
    "So let's bundle everything up into a workflow!📦"
   ],
   "metadata": {
    "id": "NlSbzDfgJ0zh"
   }
  },
  {
   "cell_type": "code",
   "execution_count": 7,
   "source": [
    "# Bundle recipe and model specification\r\n",
    "mr_wf <- workflow() %>% \r\n",
    "  add_recipe(cuisines_recipe) %>% \r\n",
    "  add_model(mr_spec)\r\n",
    "\r\n",
    "# Print out workflow\r\n",
    "mr_wf"
   ],
   "metadata": {
    "colab": {
     "base_uri": "https://localhost:8080/",
     "height": 333
    },
    "id": "Sc1TfPA4Ke3_",
    "outputId": "82c70013-e431-4e7e-cef6-9fcf8aad4a6c"
   },
   "outputs": []
  },
  {
   "cell_type": "markdown",
   "source": [
    "Workflows 👌👌! A **`workflow()`** can be fit in much the same way a model can. So, time to train a model!"
   ],
   "metadata": {
    "id": "TNQ8i85aKf9L"
   }
  },
  {
   "cell_type": "code",
   "execution_count": 8,
   "source": [
    "# Train a multinomial regression model\n",
    "mr_fit <- fit(object = mr_wf, data = cuisines_train)\n",
    "\n",
    "mr_fit"
   ],
   "metadata": {
    "colab": {
     "base_uri": "https://localhost:8080/",
     "height": 1000
    },
    "id": "GMbdfVmTKkJI",
    "outputId": "adf9ebdf-d69d-4a64-e9fd-e06e5322292e"
   },
   "outputs": []
  },
  {
   "cell_type": "markdown",
   "source": [
    "The output shows the coefficients that the model learned during training.\n",
    "\n",
    "### Evaluate the Trained Model\n",
    "\n",
    "It's time to see how the model performed 📏 by evaluating it on a test set! Let's begin by making predictions on the test set."
   ],
   "metadata": {
    "id": "tt2BfOxrKmcJ"
   }
  },
  {
   "cell_type": "code",
   "execution_count": 9,
   "source": [
    "# Make predictions on the test set\n",
    "results <- cuisines_test %>% select(cuisine) %>% \n",
    "  bind_cols(mr_fit %>% predict(new_data = cuisines_test))\n",
    "\n",
    "# Print out results\n",
    "results %>% \n",
    "  slice_head(n = 5)"
   ],
   "metadata": {
    "colab": {
     "base_uri": "https://localhost:8080/",
     "height": 248
    },
    "id": "CqtckvtsKqax",
    "outputId": "e57fe557-6a68-4217-fe82-173328c5436d"
   },
   "outputs": []
  },
  {
   "cell_type": "markdown",
   "source": [
    "Great job! In Tidymodels, evaluating model performance can be done using [yardstick](https://yardstick.tidymodels.org/) - a package used to measure the effectiveness of models using performance metrics. As we did in our logistic regression lesson, let's begin by computing a confusion matrix."
   ],
   "metadata": {
    "id": "8w5N6XsBKss7"
   }
  },
  {
   "cell_type": "code",
   "execution_count": 10,
   "source": [
    "# Confusion matrix for categorical data\n",
    "conf_mat(data = results, truth = cuisine, estimate = .pred_class)\n"
   ],
   "metadata": {
    "colab": {
     "base_uri": "https://localhost:8080/",
     "height": 133
    },
    "id": "YvODvsLkK0iG",
    "outputId": "bb69da84-1266-47ad-b174-d43b88ca2988"
   },
   "outputs": []
  },
  {
   "cell_type": "markdown",
   "source": [
    "When dealing with multiple classes, it's generally more intuitive to visualize this as a heat map, like this:"
   ],
   "metadata": {
    "id": "c0HfPL16Lr6U"
   }
  },
  {
   "cell_type": "code",
   "execution_count": 11,
   "source": [
    "update_geom_defaults(geom = \"tile\", new = list(color = \"black\", alpha = 0.7))\n",
    "# Visualize confusion matrix\n",
    "results %>% \n",
    "  conf_mat(cuisine, .pred_class) %>% \n",
    "  autoplot(type = \"heatmap\")"
   ],
   "metadata": {
    "colab": {
     "base_uri": "https://localhost:8080/",
     "height": 436
    },
    "id": "HsAtwukyLsvt",
    "outputId": "3032a224-a2c8-4270-b4f2-7bb620317400"
   },
   "outputs": []
  },
  {
   "cell_type": "markdown",
   "source": [
    "The darker squares in the confusion matrix plot indicate high numbers of cases, and you can hopefully see a diagonal line of darker squares indicating cases where the predicted and actual label are the same.\n",
    "\n",
    "Let's now calculate summary statistics for the confusion matrix."
   ],
   "metadata": {
    "id": "oOJC87dkLwPr"
   }
  },
  {
   "cell_type": "code",
   "execution_count": 12,
   "source": [
    "# Summary stats for confusion matrix\n",
    "conf_mat(data = results, truth = cuisine, estimate = .pred_class) %>% \n",
    "summary()"
   ],
   "metadata": {
    "colab": {
     "base_uri": "https://localhost:8080/",
     "height": 494
    },
    "id": "OYqetUyzL5Wz",
    "outputId": "6a84d65e-113d-4281-dfc1-16e8b70f37e6"
   },
   "outputs": []
  },
  {
   "cell_type": "markdown",
   "source": [
    "If we narrow down to some metrics such as accuracy, sensitivity, ppv, we are not badly off for a start 🥳!\n",
    "\n",
    "## 4. Digging Deeper\n",
    "\n",
    "Let's ask one subtle question: What criteria is used to settle for a given type of cuisine as the predicted outcome?\n",
    "\n",
    "Well, Statistical machine learning algorithms, like logistic regression, are based on `probability`; so what actually gets predicted by a classifier is a probability distribution over a set of possible outcomes. The class with the highest probability is then chosen as the most likely outcome for the given observations.\n",
    "\n",
    "Let's see this in action by making both hard class predictions and probabilities."
   ],
   "metadata": {
    "id": "43t7vz8vMJtW"
   }
  },
  {
   "cell_type": "code",
   "execution_count": 13,
   "source": [
    "# Make hard class prediction and probabilities\n",
    "results_prob <- cuisines_test %>%\n",
    "  select(cuisine) %>% \n",
    "  bind_cols(mr_fit %>% predict(new_data = cuisines_test)) %>% \n",
    "  bind_cols(mr_fit %>% predict(new_data = cuisines_test, type = \"prob\"))\n",
    "\n",
    "# Print out results\n",
    "results_prob %>% \n",
    "  slice_head(n = 5)"
   ],
   "metadata": {
    "colab": {
     "base_uri": "https://localhost:8080/",
     "height": 248
    },
    "id": "xdKNs-ZPMTJL",
    "outputId": "68f6ac5a-725a-4eff-9ea6-481fef00e008"
   },
   "outputs": []
  },
  {
   "cell_type": "markdown",
   "source": [
    "Much better!\n",
    "\n",
    "✅ Can you explain why the model is pretty sure that the first observation is Thai?\n",
    "\n",
    "## **🚀Challenge**\n",
    "\n",
    "In this lesson, you used your cleaned data to build a machine learning model that can predict a national cuisine based on a series of ingredients. Take some time to read through the [many options](https://www.tidymodels.org/find/parsnip/#models) Tidymodels provides to classify data and [other ways](https://parsnip.tidymodels.org/articles/articles/Examples.html#multinom_reg-models) to fit multinomial regression.\n",
    "\n",
    "#### THANK YOU TO:\n",
    "\n",
    "[`Allison Horst`](https://twitter.com/allison_horst/) for creating the amazing illustrations that make R more welcoming and engaging. Find more illustrations at her [gallery](https://www.google.com/url?q=https://github.com/allisonhorst/stats-illustrations&sa=D&source=editors&ust=1626380772530000&usg=AOvVaw3zcfyCizFQZpkSLzxiiQEM).\n",
    "\n",
    "[Cassie Breviu](https://www.twitter.com/cassieview) and [Jen Looper](https://www.twitter.com/jenlooper) for creating the original Python version of this module ♥️\n",
    "\n",
    "<br>\n",
    "Would have thrown in some jokes but I donut understand food puns 😅.\n",
    "\n",
    "<br>\n",
    "\n",
    "Happy Learning,\n",
    "\n",
    "[Eric](https://twitter.com/ericntay), Gold Microsoft Learn Student Ambassador.\n"
   ],
   "metadata": {
    "id": "2tWVHMeLMYdM"
   }
  }
 ]
}
