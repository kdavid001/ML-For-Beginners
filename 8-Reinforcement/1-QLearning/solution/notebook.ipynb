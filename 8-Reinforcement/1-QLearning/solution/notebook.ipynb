{
 "metadata": {
  "language_info": {
   "codemirror_mode": {
    "name": "ipython",
    "version": 3
   },
   "file_extension": ".py",
   "mimetype": "text/x-python",
   "name": "python",
   "nbconvert_exporter": "python",
   "pygments_lexer": "ipython3",
   "version": "3.7.0"
  },
  "orig_nbformat": 2,
  "kernelspec": {
   "name": "python3",
   "display_name": "Python 3.7.0 64-bit ('3.7')"
  },
  "interpreter": {
   "hash": "70b38d7a306a849643e446cd70466270a13445e5987dfa1344ef2b127438fa4d"
  }
 },
 "nbformat": 4,
 "nbformat_minor": 2,
 "cells": [
  {
   "source": [
    "# Peter and the Wolf: Reinforcement Learning Primer\n",
    "\n",
    "In this tutorial, we will learn how to apply Reinforcement learning to a problem of path finding. The setting is inspired by [Peter and the Wolf](https://en.wikipedia.org/wiki/Peter_and_the_Wolf) musical fairy tale by Russian composer [Sergei Prokofiev](https://en.wikipedia.org/wiki/Sergei_Prokofiev). It is a story about young pioneer Peter, who bravely goes out of his house to the forest clearing to chase the wolf. We will train machine learning algorithms that will help Peter to explore the surroinding area and build an optimal navigation map.\n",
    "\n",
    "First, let's import a bunch of userful libraries:"
   ],
   "cell_type": "markdown",
   "metadata": {}
  },
  {
   "cell_type": "code",
   "execution_count": 1,
   "metadata": {},
   "source": [
    "import matplotlib.pyplot as plt\n",
    "import numpy as np\n",
    "import random\n",
    "import math"
   ],
   "outputs": []
  },
  {
   "source": [
    "## Overview of Reinforcement Learning\n",
    "\n",
    "**Reinforcement Learning** (RL) is a learning technique that allows us to learn an optimal behaviour of an **agent** in some **environment** by running many experiments. An agent in this environment should have some **goal**, defined by a **reward function**.\n",
    "\n",
    "## The Environment\n",
    "\n",
    "For simplicity, let's consider Peter's world to be a square board of size `width` x `height`. Each cell in this board can either be:\n",
    "* **ground**, on which Peter and other creatures can walk\n",
    "* **water**, on which you obviously cannot walk\n",
    "* **a tree** or **grass** - a place where you cat take some rest\n",
    "* **an apple**, which represents something Peter would be glad to find in order to feed himself\n",
    "* **a wolf**, which is dangerous and should be avoided\n",
    "\n",
    "To work with the environment, we will define a class called `Board`. In order not to clutter this notebook too much, we have moved all code to work with the board into separate `rlboard` module, which we will now import. You may look inside this module to get more details about the internals of the implementation."
   ],
   "cell_type": "markdown",
   "metadata": {}
  },
  {
   "cell_type": "code",
   "execution_count": 2,
   "metadata": {},
   "source": [
    "from rlboard import *"
   ],
   "outputs": []
  },
  {
   "source": [
    "Let's now create a random board and see how it looks:"
   ],
   "cell_type": "markdown",
   "metadata": {}
  },
  {
   "cell_type": "code",
   "execution_count": 3,
   "metadata": {},
   "source": [
    "width, height = 8,8\n",
    "m = Board(width,height)\n",
    "m.randomize(seed=13)\n",
    "m.plot()"
   ],
   "outputs": []
  },
  {
   "source": [
    "## Actions and Policy\n",
    "\n",
    "In our example, Peter's goal would be to find an apple, while avoiding the wolf and other obstacles. To do this, he can essentially walk around until he finds and apple. Therefore, at any position he can chose between one of the following actions: up, down, left and right. We will define those actions as a dictionary, and map them to pairs of corresponding coordinate changes. For example, moving right (`R`) would correspond to a pair `(1,0)`."
   ],
   "cell_type": "markdown",
   "metadata": {}
  },
  {
   "cell_type": "code",
   "execution_count": 4,
   "metadata": {},
   "source": [
    "actions = { \"U\" : (0,-1), \"D\" : (0,1), \"L\" : (-1,0), \"R\" : (1,0) }\n",
    "action_idx = { a : i for i,a in enumerate(actions.keys()) }"
   ],
   "outputs": []
  },
  {
   "source": [
    "The strategy of our agent (Peter) is defined by a so-called **policy**. Let's consider the simplest policy called **random walk**.\n",
    "\n",
    "## Random walk\n",
    "\n",
    "Let's first solve our problem by implementing a random walk strategy."
   ],
   "cell_type": "markdown",
   "metadata": {}
  },
  {
   "cell_type": "code",
   "execution_count": 5,
   "metadata": {
    "tags": []
   },
   "source": [
    "def random_policy(m):\n",
    "    return random.choice(list(actions))\n",
    "\n",
    "def walk(m,policy,start_position=None):\n",
    "    n = 0 # number of steps\n",
    "    # set initial position\n",
    "    if start_position:\n",
    "        m.human = start_position \n",
    "    else:\n",
    "        m.random_start()\n",
    "    while True:\n",
    "        if m.at() == Board.Cell.apple:\n",
    "            return n # success!\n",
    "        if m.at() in [Board.Cell.wolf, Board.Cell.water]:\n",
    "            return -1 # eaten by wolf or drowned\n",
    "        while True:\n",
    "            a = actions[policy(m)]\n",
    "            new_pos = m.move_pos(m.human,a)\n",
    "            if m.is_valid(new_pos) and m.at(new_pos)!=Board.Cell.water:\n",
    "                m.move(a) # do the actual move\n",
    "                break\n",
    "        n+=1\n",
    "\n",
    "walk(m,random_policy)"
   ],
   "outputs": []
  },
  {
   "source": [
    "Let's run random walk experiment several times and see the average number of steps taken:"
   ],
   "cell_type": "markdown",
   "metadata": {}
  },
  {
   "cell_type": "code",
   "execution_count": 6,
   "metadata": {},
   "source": [
    "def print_statistics(policy):\n",
    "    s,w,n = 0,0,0\n",
    "    for _ in range(100):\n",
    "        z = walk(m,policy)\n",
    "        if z<0:\n",
    "            w+=1\n",
    "        else:\n",
    "            s += z\n",
    "            n += 1\n",
    "    print(f\"Average path length = {s/n}, eaten by wolf: {w} times\")\n",
    "\n",
    "print_statistics(random_policy)"
   ],
   "outputs": []
  },
  {
   "source": [
    "## Reward Function\n",
    "\n",
    "To make our policy more intelligent, we need to understand which moves are \"better\" than others.\n",
    "\n"
   ],
   "cell_type": "markdown",
   "metadata": {}
  },
  {
   "cell_type": "code",
   "execution_count": 7,
   "metadata": {},
   "source": [
    "move_reward = -0.1\n",
    "goal_reward = 10\n",
    "end_reward = -10\n",
    "\n",
    "def reward(m,pos=None):\n",
    "    pos = pos or m.human\n",
    "    if not m.is_valid(pos):\n",
    "        return end_reward\n",
    "    x = m.at(pos)\n",
    "    if x==Board.Cell.water or x == Board.Cell.wolf:\n",
    "        return end_reward\n",
    "    if x==Board.Cell.apple:\n",
    "        return goal_reward\n",
    "    return move_reward"
   ],
   "outputs": []
  },
  {
   "source": [
    "## Q-Learning\n",
    "\n",
    "Build a Q-Table, or multi-dimensional array. Since our board has dimensions `width` x `height`, we can represent Q-Table by a numpy array with shape `width` x `height` x `len(actions)`:"
   ],
   "cell_type": "markdown",
   "metadata": {}
  },
  {
   "cell_type": "code",
   "execution_count": 8,
   "metadata": {},
   "source": [
    "Q = np.ones((width,height,len(actions)),dtype=np.float)*1.0/len(actions)"
   ],
   "outputs": []
  },
  {
   "source": [
    "Pass the Q-Table to the plot function in order to visualize the table on the board:"
   ],
   "cell_type": "markdown",
   "metadata": {}
  },
  {
   "cell_type": "code",
   "execution_count": 9,
   "metadata": {},
   "source": [
    "m.plot(Q)"
   ],
   "outputs": []
  },
  {
   "source": [
    "## Essence of Q-Learning: Bellman Equation and  Learning Algorithm\n",
    "\n",
    "Write a pseudo-code for our leaning algorithm:\n",
    "\n",
    "* Initialize Q-Table Q with equal numbers for all states and actions\n",
    "* Set learning rate $\\alpha\\leftarrow 1$\n",
    "* Repeat simulation many times\n",
    "   1. Start at random position\n",
    "   1. Repeat\n",
    "        1. Select an action $a$ at state $s$\n",
    "        2. Exectute action by moving to a new state $s'$\n",
    "        3. If we encounter end-of-game condition, or total reward is too small - exit simulation  \n",
    "        4. Compute reward $r$ at the new state\n",
    "        5. Update Q-Function according to Bellman equation: $Q(s,a)\\leftarrow (1-\\alpha)Q(s,a)+\\alpha(r+\\gamma\\max_{a'}Q(s',a'))$\n",
    "        6. $s\\leftarrow s'$\n",
    "        7. Update total reward and decrease $\\alpha$.\n",
    "\n",
    "## Exploit vs. Explore\n",
    "\n",
    "The best approach is to balance between exploration and exploitation. As we learn more about our environment, we would be more likely to follow the optimal route, however, choosing the unexplored path once in a while.\n",
    "\n",
    "## Python Implementation\n",
    "\n",
    "Now we are ready to implement the learning algorithm. Before that, we also need some function that will convert arbitrary numbers in the Q-Table into a vector of probabilities for corresponding actions:"
   ],
   "cell_type": "markdown",
   "metadata": {}
  },
  {
   "cell_type": "code",
   "execution_count": 10,
   "metadata": {},
   "source": [
    "def probs(v,eps=1e-4):\n",
    "    v = v-v.min()+eps\n",
    "    v = v/v.sum()\n",
    "    return v"
   ],
   "outputs": []
  },
  {
   "source": [
    "We add a small amount of `eps` to the original vector in order to avoid division by 0 in the initial case, when all components of the vector are identical.\n",
    "\n",
    "The actual learning algorithm we will run for 5000 experiments, also called **epochs**: "
   ],
   "cell_type": "markdown",
   "metadata": {}
  },
  {
   "cell_type": "code",
   "execution_count": 11,
   "metadata": {},
   "source": [
    "\n",
    "from IPython.display import clear_output\n",
    "\n",
    "lpath = []\n",
    "\n",
    "for epoch in range(10000):\n",
    "    clear_output(wait=True)\n",
    "    print(f\"Epoch = {epoch}\",end='')\n",
    "\n",
    "    # Pick initial point\n",
    "    m.random_start()\n",
    "    \n",
    "    # Start travelling\n",
    "    n=0\n",
    "    cum_reward = 0\n",
    "    while True:\n",
    "        x,y = m.human\n",
    "        v = probs(Q[x,y])\n",
    "        a = random.choices(list(actions),weights=v)[0]\n",
    "        dpos = actions[a]\n",
    "        m.move(dpos,check_correctness=False) # we allow player to move outside the board, which terminates episode\n",
    "        r = reward(m)\n",
    "        cum_reward += r\n",
    "        if r==end_reward or cum_reward < -1000:\n",
    "            print(f\" {n} steps\",end='\\r')\n",
    "            lpath.append(n)\n",
    "            break\n",
    "        alpha = np.exp(-n / 3000)\n",
    "        gamma = 0.5\n",
    "        ai = action_idx[a]\n",
    "        Q[x,y,ai] = (1 - alpha) * Q[x,y,ai] + alpha * (r + gamma * Q[x+dpos[0], y+dpos[1]].max())\n",
    "        n+=1"
   ],
   "outputs": []
  },
  {
   "source": [
    "After executing this algorithm, the Q-Table should be updated with values that define the attractiveness of different actions at each step. Visualize the table here:"
   ],
   "cell_type": "markdown",
   "metadata": {}
  },
  {
   "cell_type": "code",
   "execution_count": 12,
   "metadata": {},
   "source": [
    "m.plot(Q)"
   ],
   "outputs": []
  },
  {
   "source": [
    "## Checking the Policy\n",
    "\n",
    "Since Q-Table lists the \"attractiveness\" of each action at each state, it is quite easy to use it to define the efficient navigation in our world. In the simplest case, we can just select the action corresponding to the highest Q-Table value:"
   ],
   "cell_type": "markdown",
   "metadata": {}
  },
  {
   "cell_type": "code",
   "execution_count": 13,
   "metadata": {},
   "source": [
    "def qpolicy_strict(m):\n",
    "        x,y = m.human\n",
    "        v = probs(Q[x,y])\n",
    "        a = list(actions)[np.argmax(v)]\n",
    "        return a\n",
    "\n",
    "walk(m,qpolicy_strict)"
   ],
   "outputs": []
  },
  {
   "source": [
    "If you try the code above several times, you may notice that sometimes it just \"hangs\", and you need to press the STOP button in the notebook to interrupt it. \n",
    "\n",
    "> **Task 1:** Modify the `walk` function to limit the maximum length of path by a certain number of steps (say, 100), and watch the code above return this value from time to time.\n",
    "\n",
    "> **Task 2:** Modify the `walk` function so that it does not go back to the places where is has already been previously. This will prevent `walk` from looping, however, the agent can still end up being \"trapped\" in a location from which it is unable to escape. "
   ],
   "cell_type": "markdown",
   "metadata": {}
  },
  {
   "cell_type": "code",
   "execution_count": 14,
   "metadata": {},
   "source": [
    "\n",
    "def qpolicy(m):\n",
    "        x,y = m.human\n",
    "        v = probs(Q[x,y])\n",
    "        a = random.choices(list(actions),weights=v)[0]\n",
    "        return a\n",
    "\n",
    "print_statistics(qpolicy)"
   ],
   "outputs": []
  },
  {
   "source": [
    "## Investigating the Learning Process"
   ],
   "cell_type": "markdown",
   "metadata": {}
  },
  {
   "cell_type": "code",
   "execution_count": 15,
   "metadata": {},
   "source": [
    "plt.plot(lpath)"
   ],
   "outputs": []
  },
  {
   "source": [
    "What we see here is that at first the average path length increased. This is probably due to the fact that when we know nothing about the environment - we are likely to get trapped into bad states, water or wolf. As we learn more and start using this knowledge, we can explore the environment for longer, but we still do not know well where apples are.\n",
    "\n",
    "Once we learn enough, it becomes easier for the agent to achieve the goal, and the path length starts to decrease. However, we are still open to exploration, so we often diverge away from the best path, and explore new options, making the path longer than optimal.\n",
    "\n",
    "What we also observe on this graph, is that at some point the length increased abruptly. This indicates stochastic nature of the process, and that we can at some point \"sploil\" the Q-Table coefficients, by overwriting them with new values. This ideally should be minimized by decreasing learning rate (i.e. towards the end of training we only adjust Q-Table values by a small value).\n",
    "\n",
    "Overall, it is important to remember that the success and quality of the learning process significantly depends on parameters, such as leaning rate, learning rate decay and discount factor. Those are often called **hyperparameters**, to distinguish them from **parameters** which we optimize during training (eg. Q-Table coefficients). The process of finding best hyperparameter values is called **hyperparameter optimization**, and it deserves a separate topic."
   ],
   "cell_type": "markdown",
   "metadata": {}
  },
  {
   "source": [
    "## Exercise\n",
    "#### A More Realistic Peter and the Wolf World\n",
    "\n",
    "In our situation, Peter was able to move around almost without getting tired or hungry. In a more realistic world, he has to sit down and rest from time to time, and also to feed himself. Let's make our world more realistic by implementing the following rules:\n",
    "\n",
    "1. By moving from one place to another, Peter loses **energy** and gains some **fatigue**.\n",
    "2. Peter can gain more energy by eating apples.\n",
    "3. Peter can get rid of fatigue by resting under the tree or on the grass (i.e. walking into a board location with a tree or grass - green field)\n",
    "4. Peter needs to find and kill the wolf\n",
    "5. In order to kill the wolf, Peter needs to have certain levels of energy and fatigue, otherwise he loses the battle.\n",
    "\n",
    "Modify the reward function above according to the rules of the game, run the reinforcement learning algorithm to learn the best strategy for winning the game, and compare the results of random walk with your algorithm in terms of number of games won and lost.\n",
    "\n",
    "\n",
    "> **Note**: You may need to adjust hyperparameters to make it work, especially the number of epochs. Because the success of the game (fighting the wolf) is a rare event, you can expect much longer training time.\n",
    "\n"
   ],
   "cell_type": "markdown",
   "metadata": {}
  }
 ]
}
